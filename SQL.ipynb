{
  "nbformat": 4,
  "nbformat_minor": 0,
  "metadata": {
    "colab": {
      "provenance": [],
      "authorship_tag": "ABX9TyMfUbTw27MHZxoG4kJwhl1K",
      "include_colab_link": true
    },
    "kernelspec": {
      "name": "python3",
      "display_name": "Python 3"
    },
    "language_info": {
      "name": "python"
    }
  },
  "cells": [
    {
      "cell_type": "markdown",
      "metadata": {
        "id": "view-in-github",
        "colab_type": "text"
      },
      "source": [
        "<a href=\"https://colab.research.google.com/github/JainUtkarsh18/E-Ticket-Booking-System_SQL-Basic-Implementation/blob/main/SQL.ipynb\" target=\"_parent\"><img src=\"https://colab.research.google.com/assets/colab-badge.svg\" alt=\"Open In Colab\"/></a>"
      ]
    },
    {
      "cell_type": "code",
      "execution_count": null,
      "metadata": {
        "id": "LaddOK4T_5qa"
      },
      "outputs": [],
      "source": [
        "import sqlite3\n",
        "\n",
        "# Connect to SQLite database\n",
        "conn = sqlite3.connect('e_ticket_booking.db')\n",
        "cursor = conn.cursor()\n",
        "\n",
        "# Create tables\n",
        "def create_tables():\n",
        "    cursor.execute('''CREATE TABLE IF NOT EXISTS Users (\n",
        "                        user_id INTEGER PRIMARY KEY AUTOINCREMENT,\n",
        "                        name TEXT NOT NULL,\n",
        "                        email TEXT NOT NULL UNIQUE,\n",
        "                        phone TEXT NOT NULL)''')\n",
        "\n",
        "    cursor.execute('''CREATE TABLE IF NOT EXISTS Events (\n",
        "                        event_id INTEGER PRIMARY KEY AUTOINCREMENT,\n",
        "                        event_name TEXT NOT NULL,\n",
        "                        event_date TEXT NOT NULL,\n",
        "                        venue TEXT NOT NULL,\n",
        "                        available_seats INTEGER NOT NULL)''')\n",
        "\n",
        "    cursor.execute('''CREATE TABLE IF NOT EXISTS Bookings (\n",
        "                        booking_id INTEGER PRIMARY KEY AUTOINCREMENT,\n",
        "                        user_id INTEGER,\n",
        "                        event_id INTEGER,\n",
        "                        seats_booked INTEGER NOT NULL,\n",
        "                        booking_date TEXT NOT NULL,\n",
        "                        FOREIGN KEY (user_id) REFERENCES Users(user_id),\n",
        "                        FOREIGN KEY (event_id) REFERENCES Events(event_id))''')\n",
        "    conn.commit()"
      ]
    },
    {
      "cell_type": "code",
      "source": [
        "# Insert sample data\n",
        "def insert_sample_data():\n",
        "    # Inserting Users\n",
        "    cursor.execute(\"INSERT INTO Users (name, email, phone) VALUES ('Utkarsh Jain', 'utkarshjain@example.com', '1234567890')\") # Changed email to be unique\n",
        "    cursor.execute(\"INSERT INTO Users (name, email, phone) VALUES ('Jain Utkarsh', 'jainutkarsh@example.com', '0987654321')\") # Changed email to be unique\n",
        "\n",
        "    # Inserting Events\n",
        "    cursor.execute(\"INSERT INTO Events (event_name, event_date, venue, available_seats) VALUES ('New Delhi', '2024-10-24', 'Mumbai', 100)\")\n",
        "    cursor.execute(\"INSERT INTO Events (event_name, event_date, venue, available_seats) VALUES ('New Delhi', '2024-11-24', 'Pune', 200)\")\n",
        "\n",
        "    conn.commit()"
      ],
      "metadata": {
        "id": "RSpEjTpNCxVL"
      },
      "execution_count": null,
      "outputs": []
    },
    {
      "cell_type": "code",
      "source": [
        "# Booking a ticket\n",
        "def book_ticket(user_id, event_id, seats):\n",
        "    cursor.execute(\"SELECT available_seats FROM Events WHERE event_id = ?\", (event_id,))\n",
        "    available_seats = cursor.fetchone()[0]\n",
        "\n",
        "    if available_seats >= seats:\n",
        "        cursor.execute(\"UPDATE Events SET available_seats = available_seats - ? WHERE event_id = ?\", (seats, event_id))\n",
        "        cursor.execute(\"INSERT INTO Bookings (user_id, event_id, seats_booked, booking_date) VALUES (?, ?, ?, date('now'))\",\n",
        "                       (user_id, event_id, seats))\n",
        "        conn.commit()\n",
        "        print(\"Booking successful!\")\n",
        "    else:\n",
        "        print(\"Not enough seats available.\")"
      ],
      "metadata": {
        "id": "xQUY-rUTCzbr"
      },
      "execution_count": null,
      "outputs": []
    },
    {
      "cell_type": "code",
      "source": [
        "# View bookings\n",
        "def view_bookings():\n",
        "    cursor.execute('''SELECT b.booking_id, u.name, e.event_name, b.seats_booked, b.booking_date\n",
        "                      FROM Bookings b\n",
        "                      JOIN Users u ON b.user_id = u.user_id\n",
        "                      JOIN Events e ON b.event_id = e.event_id''')\n",
        "    bookings = cursor.fetchall()\n",
        "\n",
        "    for booking in bookings:\n",
        "        print(f\"Booking ID: {booking[0]}, Name: {booking[1]}, Event: {booking[2]}, Seats: {booking[3]}, Date: {booking[4]}\")"
      ],
      "metadata": {
        "id": "YVUFl74-C3GS"
      },
      "execution_count": null,
      "outputs": []
    },
    {
      "cell_type": "code",
      "source": [
        "# Main program\n",
        "if __name__ == \"__main__\":\n",
        "    create_tables()\n",
        "    insert_sample_data()\n",
        "\n",
        "    # Book a ticket\n",
        "    user_id = 1  # John Doe\n",
        "    event_id = 1  # Rock Concert\n",
        "    seats_to_book = 2\n",
        "    book_ticket(user_id, event_id, seats_to_book)\n",
        "\n",
        "    # View all bookings\n",
        "    print(\"\\nAll Bookings:\")\n",
        "    view_bookings()\n",
        "\n",
        "    # Close the database connection\n",
        "    conn.close()\n"
      ],
      "metadata": {
        "colab": {
          "base_uri": "https://localhost:8080/"
        },
        "id": "YSKVHhi8C79R",
        "outputId": "812d42f1-6814-47f1-fa63-3261aa4f767b"
      },
      "execution_count": null,
      "outputs": [
        {
          "output_type": "stream",
          "name": "stdout",
          "text": [
            "Booking successful!\n",
            "\n",
            "All Bookings:\n",
            "Booking ID: 1, Name: Utkarsh Jain, Event: New Delhi, Seats: 2, Date: 2024-10-05\n",
            "Booking ID: 2, Name: Utkarsh Jain, Event: New Delhi, Seats: 2, Date: 2024-10-05\n"
          ]
        }
      ]
    }
  ]
}